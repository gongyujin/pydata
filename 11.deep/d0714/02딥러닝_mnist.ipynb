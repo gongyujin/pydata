{
  "nbformat": 4,
  "nbformat_minor": 0,
  "metadata": {
    "colab": {
      "name": "02딥러닝_mnist.ipynb",
      "provenance": [],
      "collapsed_sections": [],
      "authorship_tag": "ABX9TyMGqSjycZEh7YmVbpoKkpph",
      "include_colab_link": true
    },
    "kernelspec": {
      "name": "python3",
      "display_name": "Python 3"
    },
    "language_info": {
      "name": "python"
    }
  },
  "cells": [
    {
      "cell_type": "markdown",
      "metadata": {
        "id": "view-in-github",
        "colab_type": "text"
      },
      "source": [
        "<a href=\"https://colab.research.google.com/github/gongyujin/pydata/blob/master/11.deep/d0714/02%EB%94%A5%EB%9F%AC%EB%8B%9D_mnist.ipynb\" target=\"_parent\"><img src=\"https://colab.research.google.com/assets/colab-badge.svg\" alt=\"Open In Colab\"/></a>"
      ]
    },
    {
      "cell_type": "markdown",
      "source": [
        "## keras 딥러닝 - mnist"
      ],
      "metadata": {
        "id": "MGAiijJ8oOB5"
      }
    },
    {
      "cell_type": "code",
      "execution_count": 75,
      "metadata": {
        "id": "zdZH_7JPoGFu"
      },
      "outputs": [],
      "source": [
        "from tensorflow import keras\n",
        "import sklearn\n",
        "from sklearn.linear_model import SGDClassifier # 확률적경사하강법\n",
        "import numpy as np\n",
        "import pandas as pd\n",
        "import matplotlib.pyplot as plt\n",
        "from sklearn.model_selection import train_test_split"
      ]
    },
    {
      "cell_type": "code",
      "source": [
        "# 데이터불러오기\n",
        "(train_data,train_label),(test_data,test_label)=keras.datasets.fashion_mnist.load_data()"
      ],
      "metadata": {
        "id": "zST1gPEBoaI4"
      },
      "execution_count": 76,
      "outputs": []
    },
    {
      "cell_type": "code",
      "source": [
        "# 데이터 전처리\n",
        "# 1. 데이터 확인 - pandas : info, describe\n",
        "print(train_data.shape) # (60000, 28, 28)\n",
        "train_label.shape # (60000,)"
      ],
      "metadata": {
        "colab": {
          "base_uri": "https://localhost:8080/"
        },
        "id": "TM1PEcE9pQ5p",
        "outputId": "8ba354ee-2fd9-4380-b842-5200e7322941"
      },
      "execution_count": 77,
      "outputs": [
        {
          "output_type": "stream",
          "name": "stdout",
          "text": [
            "(60000, 28, 28)\n"
          ]
        },
        {
          "output_type": "execute_result",
          "data": {
            "text/plain": [
              "(60000,)"
            ]
          },
          "metadata": {},
          "execution_count": 77
        }
      ]
    },
    {
      "cell_type": "code",
      "source": [
        "# 2. class 확인 - pandas : columns로 확인\n",
        "np.unique(train_label,return_counts=True)"
      ],
      "metadata": {
        "colab": {
          "base_uri": "https://localhost:8080/"
        },
        "id": "ya0TDIWJp-r5",
        "outputId": "ce7bb04b-3e71-4fd9-ee01-4e4f95584d2a"
      },
      "execution_count": 78,
      "outputs": [
        {
          "output_type": "execute_result",
          "data": {
            "text/plain": [
              "(array([0, 1, 2, 3, 4, 5, 6, 7, 8, 9], dtype=uint8),\n",
              " array([6000, 6000, 6000, 6000, 6000, 6000, 6000, 6000, 6000, 6000]))"
            ]
          },
          "metadata": {},
          "execution_count": 78
        }
      ]
    },
    {
      "cell_type": "code",
      "source": [
        "# 3. 정규화, 표준화 작업\n",
        "train_scaled=train_data/255.0\n",
        "test_scaled=test_data/255.0"
      ],
      "metadata": {
        "id": "dO2_KGUVqVa3"
      },
      "execution_count": 79,
      "outputs": []
    },
    {
      "cell_type": "code",
      "source": [
        "# train_scaled=train_scaled.reshape(-1,28*28)\n",
        "# test_scaled=test_scaled.reshape(-1,28*28)"
      ],
      "metadata": {
        "id": "79H7i0RfsMZY"
      },
      "execution_count": 80,
      "outputs": []
    },
    {
      "cell_type": "code",
      "source": [
        "# train_data,test_data,val_data\n",
        "sub_data,val_data,sub_label,val_label=train_test_split(train_scaled,train_label)"
      ],
      "metadata": {
        "id": "Lctn3OFTo3ae"
      },
      "execution_count": 81,
      "outputs": []
    },
    {
      "cell_type": "code",
      "source": [
        "# 클래스 개수-10\n",
        "np.unique(train_label)"
      ],
      "metadata": {
        "colab": {
          "base_uri": "https://localhost:8080/"
        },
        "id": "oxaFE8NbsrKn",
        "outputId": "a5a45499-44d7-4c0d-c7ad-0822c3c72965"
      },
      "execution_count": 82,
      "outputs": [
        {
          "output_type": "execute_result",
          "data": {
            "text/plain": [
              "array([0, 1, 2, 3, 4, 5, 6, 7, 8, 9], dtype=uint8)"
            ]
          },
          "metadata": {},
          "execution_count": 82
        }
      ]
    },
    {
      "cell_type": "code",
      "source": [
        "# ## 1. 딥러닝 선언\n",
        "# # keras 기본층 - 제일마지막 dense층은 class 개수와 같아야함, class가 여러개이므로 activation='softmax'를 사용해야함\n",
        "# # 클래스가 여러개, softmax사용 1개일때는 sigmoid 함수\n",
        "# # 출력층\n",
        "# dense = keras.layers.Dense(100,activation='sigmoid', input_shape=(784,))\n",
        "# dense2 = keras.layers.Dense(10,activation='softmax')\n",
        "\n",
        "# # 알고리즘선언\n",
        "# model=keras.Sequential([dense,dense2])\n",
        "\n",
        "# # 설정 - 이진분류 : sparse_binary_crossentropy, 다중분류 : sparse_categorical_crossentropy\n",
        "# # accuracy : 정확도 출력\n",
        "# model.compile(loss='sparse_categorical_crossentropy',metrics=\"accuracy\")"
      ],
      "metadata": {
        "id": "Xw3a_1DMsH_h"
      },
      "execution_count": 83,
      "outputs": []
    },
    {
      "cell_type": "code",
      "source": [
        "# ## 2. 딥러닝 선언\n",
        "# # keras 기본층 - 제일마지막 dense층은 class 개수와 같아야함, class가 여러개이므로 activation='softmax'를 사용해야함\n",
        "# # 클래스가 여러개, softmax사용 1개일때는 sigmoid 함수\n",
        "# # 출력층\n",
        "# dense = keras.layers.Dense(100,activation='sigmoid', input_shape=(784,))\n",
        "# dense2 = keras.layers.Dense(10,activation='softmax')\n",
        "\n",
        "# # 알고리즘선언\n",
        "# model=keras.Sequential([\n",
        "#   keras.layers.Dense(100,activation='sigmoid', input_shape=(784,)),\n",
        "#   keras.layers.Dense(10,activation='softmax')\n",
        "# ])\n",
        "\n",
        "# # 설정 - 이진분류 : sparse_binary_crossentropy, 다중분류 : sparse_categorical_crossentropy\n",
        "# # accuracy : 정확도 출력\n",
        "# model.compile(loss='sparse_categorical_crossentropy',metrics=\"accuracy\")"
      ],
      "metadata": {
        "id": "k9WZBecCC87B"
      },
      "execution_count": 84,
      "outputs": []
    },
    {
      "cell_type": "code",
      "source": [
        "## 3. 딥러닝 선언\n",
        "# 알고리즘 선언\n",
        "model=keras.Sequential()\n",
        "model.add(keras.layers.Flatten(input_shape=(28,28))) \n",
        "model.add(keras.layers.Dense(100,activation=\"relu\"))\n",
        "model.add(keras.layers.Dense(10,activation=\"softmax\",name='mnist'))\n",
        "model.compile(loss='sparse_categorical_crossentropy',metrics=\"accuracy\")"
      ],
      "metadata": {
        "id": "p1o_DsZMBBYI"
      },
      "execution_count": 85,
      "outputs": []
    },
    {
      "cell_type": "code",
      "source": [
        "# 훈련 - 2차원데이터\n",
        "model.fit(train_scaled,train_label,epochs=5)\n",
        "# model.fit(sub_data,sub_label,epochs=5)"
      ],
      "metadata": {
        "colab": {
          "base_uri": "https://localhost:8080/"
        },
        "id": "i4h19wc6pKth",
        "outputId": "32d22c66-bd65-4250-8c59-1cd8b9c441b6"
      },
      "execution_count": 86,
      "outputs": [
        {
          "output_type": "stream",
          "name": "stdout",
          "text": [
            "Epoch 1/5\n",
            "1875/1875 [==============================] - 6s 3ms/step - loss: 0.5111 - accuracy: 0.8198\n",
            "Epoch 2/5\n",
            "1875/1875 [==============================] - 5s 3ms/step - loss: 0.3832 - accuracy: 0.8635\n",
            "Epoch 3/5\n",
            "1875/1875 [==============================] - 5s 3ms/step - loss: 0.3501 - accuracy: 0.8757\n",
            "Epoch 4/5\n",
            "1875/1875 [==============================] - 5s 3ms/step - loss: 0.3309 - accuracy: 0.8817\n",
            "Epoch 5/5\n",
            "1875/1875 [==============================] - 5s 3ms/step - loss: 0.3187 - accuracy: 0.8867\n"
          ]
        },
        {
          "output_type": "execute_result",
          "data": {
            "text/plain": [
              "<keras.callbacks.History at 0x7f3760f2d9d0>"
            ]
          },
          "metadata": {},
          "execution_count": 86
        }
      ]
    },
    {
      "cell_type": "code",
      "source": [
        "# 정확도\n",
        "score=model.evaluate(test_scaled,test_label)\n",
        "score"
      ],
      "metadata": {
        "colab": {
          "base_uri": "https://localhost:8080/"
        },
        "id": "AJGo7alcpLeq",
        "outputId": "8dca8080-20b2-4a65-9386-f84bfbffbda5"
      },
      "execution_count": 87,
      "outputs": [
        {
          "output_type": "stream",
          "name": "stdout",
          "text": [
            "313/313 [==============================] - 1s 2ms/step - loss: 0.3848 - accuracy: 0.8725\n"
          ]
        },
        {
          "output_type": "execute_result",
          "data": {
            "text/plain": [
              "[0.38481131196022034, 0.8725000023841858]"
            ]
          },
          "metadata": {},
          "execution_count": 87
        }
      ]
    },
    {
      "cell_type": "code",
      "source": [
        "model.summary()"
      ],
      "metadata": {
        "id": "SS6S2XOcA3p5",
        "colab": {
          "base_uri": "https://localhost:8080/"
        },
        "outputId": "03eee177-d5fc-4854-87c6-d481479c54b6"
      },
      "execution_count": 88,
      "outputs": [
        {
          "output_type": "stream",
          "name": "stdout",
          "text": [
            "Model: \"sequential_13\"\n",
            "_________________________________________________________________\n",
            " Layer (type)                Output Shape              Param #   \n",
            "=================================================================\n",
            " flatten_5 (Flatten)         (None, 784)               0         \n",
            "                                                                 \n",
            " dense_28 (Dense)            (None, 100)               78500     \n",
            "                                                                 \n",
            " mnist (Dense)               (None, 10)                1010      \n",
            "                                                                 \n",
            "=================================================================\n",
            "Total params: 79,510\n",
            "Trainable params: 79,510\n",
            "Non-trainable params: 0\n",
            "_________________________________________________________________\n"
          ]
        }
      ]
    }
  ]
}